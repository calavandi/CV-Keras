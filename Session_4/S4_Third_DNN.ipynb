{
  "nbformat": 4,
  "nbformat_minor": 0,
  "metadata": {
    "colab": {
      "name": "S4_Third_DNN",
      "version": "0.3.2",
      "provenance": [],
      "collapsed_sections": []
    },
    "kernelspec": {
      "name": "python3",
      "display_name": "Python 3"
    },
    "accelerator": "GPU"
  },
  "cells": [
    {
      "cell_type": "markdown",
      "metadata": {
        "id": "aNyZv-Ec52ot",
        "colab_type": "text"
      },
      "source": [
        "# **Import Libraries and modules**"
      ]
    },
    {
      "cell_type": "markdown",
      "metadata": {
        "id": "K5GFtin1Apje",
        "colab_type": "text"
      },
      "source": [
        "###Import Keras libraries"
      ]
    },
    {
      "cell_type": "code",
      "metadata": {
        "id": "3m3w1Cw49Zkt",
        "colab_type": "code",
        "outputId": "7f221b0d-0515-43e8-fd73-3ece939fb92c",
        "colab": {
          "base_uri": "https://localhost:8080/",
          "height": 35
        }
      },
      "source": [
        "# https://keras.io/\n",
        "!pip install -q keras\n",
        "import keras"
      ],
      "execution_count": 1,
      "outputs": [
        {
          "output_type": "stream",
          "text": [
            "Using TensorFlow backend.\n"
          ],
          "name": "stderr"
        }
      ]
    },
    {
      "cell_type": "markdown",
      "metadata": {
        "id": "KH7W_2GuBKoN",
        "colab_type": "text"
      },
      "source": [
        "###Importing other libraries needed"
      ]
    },
    {
      "cell_type": "code",
      "metadata": {
        "id": "Eso6UHE080D4",
        "colab_type": "code",
        "colab": {}
      },
      "source": [
        "import numpy as np\n",
        "\n",
        "from keras.models import Sequential\n",
        "from keras.layers import Dense, Dropout, Activation, Flatten, Add\n",
        "from keras.layers import Convolution2D, MaxPooling2D\n",
        "from keras.utils import np_utils\n",
        "\n",
        "from keras.datasets import mnist"
      ],
      "execution_count": 0,
      "outputs": []
    },
    {
      "cell_type": "markdown",
      "metadata": {
        "id": "zByEi95J86RD",
        "colab_type": "text"
      },
      "source": [
        "### Load pre-shuffled MNIST data into train and test sets"
      ]
    },
    {
      "cell_type": "code",
      "metadata": {
        "id": "7eRM0QWN83PV",
        "colab_type": "code",
        "colab": {}
      },
      "source": [
        "(X_train, y_train), (X_test, y_test) = mnist.load_data()"
      ],
      "execution_count": 0,
      "outputs": []
    },
    {
      "cell_type": "markdown",
      "metadata": {
        "id": "_blnnlHgDYw8",
        "colab_type": "text"
      },
      "source": [
        "###Print the image dimensions and plot the image"
      ]
    },
    {
      "cell_type": "code",
      "metadata": {
        "id": "4a4Be72j8-ZC",
        "colab_type": "code",
        "outputId": "36e78a83-f23c-4e9a-b07f-4ea427c9c215",
        "colab": {
          "base_uri": "https://localhost:8080/",
          "height": 306
        }
      },
      "source": [
        "print (X_train.shape)\n",
        "from matplotlib import pyplot as plt\n",
        "%matplotlib inline\n",
        "plt.imshow(X_train[0])"
      ],
      "execution_count": 4,
      "outputs": [
        {
          "output_type": "stream",
          "text": [
            "(60000, 28, 28)\n"
          ],
          "name": "stdout"
        },
        {
          "output_type": "execute_result",
          "data": {
            "text/plain": [
              "<matplotlib.image.AxesImage at 0x7f9cd22bfda0>"
            ]
          },
          "metadata": {
            "tags": []
          },
          "execution_count": 4
        },
        {
          "output_type": "display_data",
          "data": {
            "image/png": "[encoded data removed]",
            "text/plain": [
              "<Figure size 432x288 with 1 Axes>"
            ]
          },
          "metadata": {
            "tags": []
          }
        }
      ]
    },
    {
      "cell_type": "markdown",
      "metadata": {
        "id": "LlHltb66Dn6O",
        "colab_type": "text"
      },
      "source": [
        "###reshape the training and testing datasets"
      ]
    },
    {
      "cell_type": "code",
      "metadata": {
        "id": "dkmprriw9AnZ",
        "colab_type": "code",
        "colab": {}
      },
      "source": [
        "X_train = X_train.reshape(X_train.shape[0], 28, 28,1)\n",
        "X_test = X_test.reshape(X_test.shape[0], 28, 28,1)"
      ],
      "execution_count": 0,
      "outputs": []
    },
    {
      "cell_type": "markdown",
      "metadata": {
        "id": "ukvOc8bZD8T1",
        "colab_type": "text"
      },
      "source": [
        "###Convert integer type data to float32 type and restrict data in betwwen 0-255 to 0-1 for both test and training data"
      ]
    },
    {
      "cell_type": "code",
      "metadata": {
        "id": "X2m4YS4E9CRh",
        "colab_type": "code",
        "colab": {}
      },
      "source": [
        "X_train = X_train.astype('float32')\n",
        "X_test = X_test.astype('float32')\n",
        "X_train /= 255\n",
        "X_test /= 255"
      ],
      "execution_count": 0,
      "outputs": []
    },
    {
      "cell_type": "markdown",
      "metadata": {
        "id": "_KnkXI3OE-fg",
        "colab_type": "text"
      },
      "source": [
        "###Display first 10 elements in the trainign dataset"
      ]
    },
    {
      "cell_type": "code",
      "metadata": {
        "id": "0Mn0vAYD9DvB",
        "colab_type": "code",
        "outputId": "cae1ac18-eb21-4973-9114-d9b48829c912",
        "colab": {
          "base_uri": "https://localhost:8080/",
          "height": 35
        }
      },
      "source": [
        "y_train[:10]"
      ],
      "execution_count": 7,
      "outputs": [
        {
          "output_type": "execute_result",
          "data": {
            "text/plain": [
              "array([5, 0, 4, 1, 9, 2, 1, 3, 1, 4], dtype=uint8)"
            ]
          },
          "metadata": {
            "tags": []
          },
          "execution_count": 7
        }
      ]
    },
    {
      "cell_type": "code",
      "metadata": {
        "id": "ZG8JiXR39FHC",
        "colab_type": "code",
        "colab": {}
      },
      "source": [
        "# Convert 1-dimensional class arrays to 10-dimensional class matrices\n",
        "Y_train = np_utils.to_categorical(y_train, 10)\n",
        "Y_test = np_utils.to_categorical(y_test, 10)"
      ],
      "execution_count": 0,
      "outputs": []
    },
    {
      "cell_type": "code",
      "metadata": {
        "id": "fYlFRvKS9HMB",
        "colab_type": "code",
        "outputId": "31a852a1-a3aa-4fde-c51a-b6ba327f55b6",
        "colab": {
          "base_uri": "https://localhost:8080/",
          "height": 201
        }
      },
      "source": [
        "Y_train[:10]\n"
      ],
      "execution_count": 9,
      "outputs": [
        {
          "output_type": "execute_result",
          "data": {
            "text/plain": [
              "array([[0., 0., 0., 0., 0., 1., 0., 0., 0., 0.],\n",
              "       [1., 0., 0., 0., 0., 0., 0., 0., 0., 0.],\n",
              "       [0., 0., 0., 0., 1., 0., 0., 0., 0., 0.],\n",
              "       [0., 1., 0., 0., 0., 0., 0., 0., 0., 0.],\n",
              "       [0., 0., 0., 0., 0., 0., 0., 0., 0., 1.],\n",
              "       [0., 0., 1., 0., 0., 0., 0., 0., 0., 0.],\n",
              "       [0., 1., 0., 0., 0., 0., 0., 0., 0., 0.],\n",
              "       [0., 0., 0., 1., 0., 0., 0., 0., 0., 0.],\n",
              "       [0., 1., 0., 0., 0., 0., 0., 0., 0., 0.],\n",
              "       [0., 0., 0., 0., 1., 0., 0., 0., 0., 0.]], dtype=float32)"
            ]
          },
          "metadata": {
            "tags": []
          },
          "execution_count": 9
        }
      ]
    },
    {
      "cell_type": "markdown",
      "metadata": {
        "id": "PPD3hD30FU2R",
        "colab_type": "text"
      },
      "source": [
        "#The DNN\n",
        "### The network is designed with dropouts, one maxpooling and 8 convolution layers. \n",
        "### Changes:\n",
        "* Tweak in the architecture.\n",
        "* Added batchnormalization.\n",
        "* Added more epochs.\n",
        "\n",
        "### Observations\n",
        "\n",
        "   1. Significant increase in the accuracy\n",
        "   2. The val accuracy is greater than test accuracy. This is because of the dropouts added.\n",
        "   3. Reduced number of parameters.\n",
        "   4. Epoch time is increased.\n"
      ]
    },
    {
      "cell_type": "code",
      "metadata": {
        "id": "osKqT73Q9JJB",
        "colab_type": "code",
        "outputId": "7c24e40b-52f3-43bf-b0fa-89cbc4b52914",
        "colab": {
          "base_uri": "https://localhost:8080/",
          "height": 239
        }
      },
      "source": [
        "from keras.layers import Activation\n",
        "from keras.layers import Dropout\n",
        "from keras.layers import MaxPool2D\n",
        "from keras.layers import BatchNormalization\n",
        "\n",
        "model = Sequential()\n",
        " \n",
        "model.add(Convolution2D(32, 3, 3, activation='relu', input_shape=(28,28,1))) #Will return 26x26x32\n",
        "model.add(BatchNormalization()) #--3\n",
        "\n",
        "model.add(Convolution2D(16, 3, 3, activation='relu')) #24x24x16\n",
        "model.add(BatchNormalization()) #--3\n",
        "\n",
        "\n",
        "model.add(Convolution2D(8, 3, 3, activation='relu')) #9x9x18\n",
        "model.add(BatchNormalization()) #--3\n",
        "model.add(Dropout(0.2))\n",
        "\n",
        "model.add(MaxPool2D(2,2)) #returns 11x11x64  --- 11x11x64\n",
        "\n",
        "model.add(Convolution2D(16, 3, 3, activation='relu')) #22x22x8\n",
        "model.add(BatchNormalization()) #--3\n",
        "model.add(Dropout(0.2))\n",
        "\n",
        "model.add(Convolution2D(8, 3, 3, activation='relu')) #9x9x18\n",
        "model.add(BatchNormalization()) #--3\n",
        "model.add(Dropout(0.2))\n",
        "model.add(Convolution2D(8, 3, 3, activation = 'relu')) #7x7x8\n",
        "model.add(BatchNormalization()) #--3\n",
        "model.add(Dropout(0.2))\n",
        "model.add(Convolution2D(12,1,1, activation='relu')) #7x7x12\n",
        "model.add(BatchNormalization()) #--3 \n",
        "\n",
        "model.add(Convolution2D(10, 5, 5))  #returns 1x1x10\n",
        "\n",
        "\n",
        "\n",
        "model.add(Flatten())  #Runs flatten operation on the image matrix \n",
        "model.add(Activation('softmax')) "
      ],
      "execution_count": 17,
      "outputs": [
        {
          "output_type": "stream",
          "text": [
            "/usr/local/lib/python3.6/dist-packages/ipykernel_launcher.py:8: UserWarning: Update your `Conv2D` call to the Keras 2 API: `Conv2D(32, (3, 3), activation=\"relu\", input_shape=(28, 28, 1...)`\n",
            "  \n",
            "/usr/local/lib/python3.6/dist-packages/ipykernel_launcher.py:11: UserWarning: Update your `Conv2D` call to the Keras 2 API: `Conv2D(16, (3, 3), activation=\"relu\")`\n",
            "  # This is added back by InteractiveShellApp.init_path()\n",
            "/usr/local/lib/python3.6/dist-packages/ipykernel_launcher.py:15: UserWarning: Update your `Conv2D` call to the Keras 2 API: `Conv2D(8, (3, 3), activation=\"relu\")`\n",
            "  from ipykernel import kernelapp as app\n",
            "/usr/local/lib/python3.6/dist-packages/ipykernel_launcher.py:21: UserWarning: Update your `Conv2D` call to the Keras 2 API: `Conv2D(16, (3, 3), activation=\"relu\")`\n",
            "/usr/local/lib/python3.6/dist-packages/ipykernel_launcher.py:25: UserWarning: Update your `Conv2D` call to the Keras 2 API: `Conv2D(8, (3, 3), activation=\"relu\")`\n",
            "/usr/local/lib/python3.6/dist-packages/ipykernel_launcher.py:28: UserWarning: Update your `Conv2D` call to the Keras 2 API: `Conv2D(8, (3, 3), activation=\"relu\")`\n",
            "/usr/local/lib/python3.6/dist-packages/ipykernel_launcher.py:31: UserWarning: Update your `Conv2D` call to the Keras 2 API: `Conv2D(12, (1, 1), activation=\"relu\")`\n",
            "/usr/local/lib/python3.6/dist-packages/ipykernel_launcher.py:34: UserWarning: Update your `Conv2D` call to the Keras 2 API: `Conv2D(10, (5, 5))`\n"
          ],
          "name": "stderr"
        }
      ]
    },
    {
      "cell_type": "markdown",
      "metadata": {
        "id": "GxW5wXssP7_x",
        "colab_type": "text"
      },
      "source": [
        "### Outputs the summary of our model"
      ]
    },
    {
      "cell_type": "code",
      "metadata": {
        "id": "TzdAYg1k9K7Z",
        "colab_type": "code",
        "outputId": "392de92b-c371-4d39-b0e4-4ca1bb17eab2",
        "colab": {
          "base_uri": "https://localhost:8080/",
          "height": 954
        }
      },
      "source": [
        "model.summary()"
      ],
      "execution_count": 18,
      "outputs": [
        {
          "output_type": "stream",
          "text": [
            "_________________________________________________________________\n",
            "Layer (type)                 Output Shape              Param #   \n",
            "=================================================================\n",
            "conv2d_16 (Conv2D)           (None, 26, 26, 32)        320       \n",
            "_________________________________________________________________\n",
            "batch_normalization_13 (Batc (None, 26, 26, 32)        128       \n",
            "_________________________________________________________________\n",
            "conv2d_17 (Conv2D)           (None, 24, 24, 16)        4624      \n",
            "_________________________________________________________________\n",
            "batch_normalization_14 (Batc (None, 24, 24, 16)        64        \n",
            "_________________________________________________________________\n",
            "conv2d_18 (Conv2D)           (None, 22, 22, 8)         1160      \n",
            "_________________________________________________________________\n",
            "batch_normalization_15 (Batc (None, 22, 22, 8)         32        \n",
            "_________________________________________________________________\n",
            "dropout_7 (Dropout)          (None, 22, 22, 8)         0         \n",
            "_________________________________________________________________\n",
            "max_pooling2d_3 (MaxPooling2 (None, 11, 11, 8)         0         \n",
            "_________________________________________________________________\n",
            "conv2d_19 (Conv2D)           (None, 9, 9, 16)          1168      \n",
            "_________________________________________________________________\n",
            "batch_normalization_16 (Batc (None, 9, 9, 16)          64        \n",
            "_________________________________________________________________\n",
            "dropout_8 (Dropout)          (None, 9, 9, 16)          0         \n",
            "_________________________________________________________________\n",
            "conv2d_20 (Conv2D)           (None, 7, 7, 8)           1160      \n",
            "_________________________________________________________________\n",
            "batch_normalization_17 (Batc (None, 7, 7, 8)           32        \n",
            "_________________________________________________________________\n",
            "dropout_9 (Dropout)          (None, 7, 7, 8)           0         \n",
            "_________________________________________________________________\n",
            "conv2d_21 (Conv2D)           (None, 5, 5, 8)           584       \n",
            "_________________________________________________________________\n",
            "batch_normalization_18 (Batc (None, 5, 5, 8)           32        \n",
            "_________________________________________________________________\n",
            "dropout_10 (Dropout)         (None, 5, 5, 8)           0         \n",
            "_________________________________________________________________\n",
            "conv2d_22 (Conv2D)           (None, 5, 5, 12)          108       \n",
            "_________________________________________________________________\n",
            "batch_normalization_19 (Batc (None, 5, 5, 12)          48        \n",
            "_________________________________________________________________\n",
            "conv2d_23 (Conv2D)           (None, 1, 1, 10)          3010      \n",
            "_________________________________________________________________\n",
            "flatten_2 (Flatten)          (None, 10)                0         \n",
            "_________________________________________________________________\n",
            "activation_2 (Activation)    (None, 10)                0         \n",
            "=================================================================\n",
            "Total params: 12,534\n",
            "Trainable params: 12,334\n",
            "Non-trainable params: 200\n",
            "_________________________________________________________________\n"
          ],
          "name": "stdout"
        }
      ]
    },
    {
      "cell_type": "markdown",
      "metadata": {
        "id": "hFu3U8h5QC3D",
        "colab_type": "text"
      },
      "source": [
        "### Compiles the model and create a checkpoint callback which remembers the best accuracy achived in the training phase. "
      ]
    },
    {
      "cell_type": "code",
      "metadata": {
        "id": "Zp6SuGrL9M3h",
        "colab_type": "code",
        "colab": {}
      },
      "source": [
        "from keras.callbacks import ModelCheckpoint\n",
        "model.compile(loss='categorical_crossentropy',optimizer='adam',\n",
        "             metrics=['accuracy'])\n",
        "checkpoint = ModelCheckpoint('model.best-accuracy.hdfs', save_best_only=True,monitor='val_acc')\n",
        "callback_list=[checkpoint]"
      ],
      "execution_count": 0,
      "outputs": []
    },
    {
      "cell_type": "markdown",
      "metadata": {
        "id": "q_z6nf2ZQmc5",
        "colab_type": "text"
      },
      "source": [
        "### training the model and alsoo validate the model at each epoch against test data."
      ]
    },
    {
      "cell_type": "code",
      "metadata": {
        "id": "4xWoKhPY9Of5",
        "colab_type": "code",
        "outputId": "e26e1049-ca1d-4205-fac1-275e0bcf0967",
        "colab": {
          "base_uri": "https://localhost:8080/",
          "height": 1947
        }
      },
      "source": [
        "model.fit(X_train, Y_train, batch_size=50, \n",
        "          nb_epoch=50 , verbose=1, callbacks=callback_list, validation_data=(X_test, Y_test))"
      ],
      "execution_count": 20,
      "outputs": [
        {
          "output_type": "stream",
          "text": [
            "/usr/local/lib/python3.6/dist-packages/ipykernel_launcher.py:2: UserWarning: The `nb_epoch` argument in `fit` has been renamed `epochs`.\n",
            "  \n"
          ],
          "name": "stderr"
        },
        {
          "output_type": "stream",
          "text": [
            "Train on 60000 samples, validate on 10000 samples\n",
            "Epoch 1/50\n",
            "60000/60000 [==============================] - 52s 868us/step - loss: 0.3579 - acc: 0.8837 - val_loss: 0.0977 - val_acc: 0.9692\n",
            "Epoch 2/50\n",
            "60000/60000 [==============================] - 47s 781us/step - loss: 0.1016 - acc: 0.9681 - val_loss: 0.0524 - val_acc: 0.9837\n",
            "Epoch 3/50\n",
            "60000/60000 [==============================] - 45s 758us/step - loss: 0.0766 - acc: 0.9766 - val_loss: 0.0497 - val_acc: 0.9843\n",
            "Epoch 4/50\n",
            "60000/60000 [==============================] - 46s 766us/step - loss: 0.0678 - acc: 0.9785 - val_loss: 0.0431 - val_acc: 0.9870\n",
            "Epoch 5/50\n",
            "60000/60000 [==============================] - 45s 753us/step - loss: 0.0604 - acc: 0.9803 - val_loss: 0.0400 - val_acc: 0.9878\n",
            "Epoch 6/50\n",
            "60000/60000 [==============================] - 46s 760us/step - loss: 0.0553 - acc: 0.9828 - val_loss: 0.0644 - val_acc: 0.9817\n",
            "Epoch 7/50\n",
            "60000/60000 [==============================] - 46s 762us/step - loss: 0.0541 - acc: 0.9830 - val_loss: 0.0470 - val_acc: 0.9861\n",
            "Epoch 8/50\n",
            "60000/60000 [==============================] - 45s 757us/step - loss: 0.0507 - acc: 0.9842 - val_loss: 0.0421 - val_acc: 0.9864\n",
            "Epoch 9/50\n",
            "60000/60000 [==============================] - 30s 508us/step - loss: 0.0479 - acc: 0.9854 - val_loss: 0.0441 - val_acc: 0.9869\n",
            "Epoch 10/50\n",
            "60000/60000 [==============================] - 27s 454us/step - loss: 0.0434 - acc: 0.9864 - val_loss: 0.0286 - val_acc: 0.9923\n",
            "Epoch 11/50\n",
            "60000/60000 [==============================] - 27s 450us/step - loss: 0.0425 - acc: 0.9863 - val_loss: 0.0328 - val_acc: 0.9897\n",
            "Epoch 12/50\n",
            "60000/60000 [==============================] - 27s 453us/step - loss: 0.0406 - acc: 0.9871 - val_loss: 0.0292 - val_acc: 0.9914\n",
            "Epoch 13/50\n",
            "60000/60000 [==============================] - 27s 452us/step - loss: 0.0437 - acc: 0.9864 - val_loss: 0.0339 - val_acc: 0.9905\n",
            "Epoch 14/50\n",
            "60000/60000 [==============================] - 27s 453us/step - loss: 0.0406 - acc: 0.9877 - val_loss: 0.0351 - val_acc: 0.9894\n",
            "Epoch 15/50\n",
            "60000/60000 [==============================] - 27s 452us/step - loss: 0.0379 - acc: 0.9880 - val_loss: 0.0253 - val_acc: 0.9922\n",
            "Epoch 16/50\n",
            "60000/60000 [==============================] - 27s 449us/step - loss: 0.0370 - acc: 0.9888 - val_loss: 0.0232 - val_acc: 0.9931\n",
            "Epoch 17/50\n",
            "60000/60000 [==============================] - 27s 450us/step - loss: 0.0368 - acc: 0.9887 - val_loss: 0.0304 - val_acc: 0.9911\n",
            "Epoch 18/50\n",
            "60000/60000 [==============================] - 27s 452us/step - loss: 0.0358 - acc: 0.9887 - val_loss: 0.0254 - val_acc: 0.9925\n",
            "Epoch 19/50\n",
            "60000/60000 [==============================] - 27s 450us/step - loss: 0.0366 - acc: 0.9886 - val_loss: 0.0269 - val_acc: 0.9916\n",
            "Epoch 20/50\n",
            "60000/60000 [==============================] - 27s 451us/step - loss: 0.0324 - acc: 0.9896 - val_loss: 0.0239 - val_acc: 0.9925\n",
            "Epoch 21/50\n",
            "60000/60000 [==============================] - 27s 452us/step - loss: 0.0318 - acc: 0.9896 - val_loss: 0.0286 - val_acc: 0.9911\n",
            "Epoch 22/50\n",
            "60000/60000 [==============================] - 27s 451us/step - loss: 0.0329 - acc: 0.9893 - val_loss: 0.0286 - val_acc: 0.9922\n",
            "Epoch 23/50\n",
            "60000/60000 [==============================] - 27s 451us/step - loss: 0.0327 - acc: 0.9897 - val_loss: 0.0296 - val_acc: 0.9907\n",
            "Epoch 24/50\n",
            "60000/60000 [==============================] - 27s 453us/step - loss: 0.0326 - acc: 0.9898 - val_loss: 0.0259 - val_acc: 0.9926\n",
            "Epoch 25/50\n",
            "60000/60000 [==============================] - 27s 450us/step - loss: 0.0305 - acc: 0.9904 - val_loss: 0.0297 - val_acc: 0.9915\n",
            "Epoch 26/50\n",
            "60000/60000 [==============================] - 27s 452us/step - loss: 0.0306 - acc: 0.9901 - val_loss: 0.0262 - val_acc: 0.9922\n",
            "Epoch 27/50\n",
            "60000/60000 [==============================] - 27s 451us/step - loss: 0.0299 - acc: 0.9907 - val_loss: 0.0275 - val_acc: 0.9923\n",
            "Epoch 28/50\n",
            "60000/60000 [==============================] - 27s 451us/step - loss: 0.0291 - acc: 0.9906 - val_loss: 0.0295 - val_acc: 0.9912\n",
            "Epoch 29/50\n",
            "60000/60000 [==============================] - 27s 449us/step - loss: 0.0300 - acc: 0.9904 - val_loss: 0.0285 - val_acc: 0.9914\n",
            "Epoch 30/50\n",
            "60000/60000 [==============================] - 27s 449us/step - loss: 0.0289 - acc: 0.9910 - val_loss: 0.0223 - val_acc: 0.9926\n",
            "Epoch 31/50\n",
            "60000/60000 [==============================] - 27s 454us/step - loss: 0.0279 - acc: 0.9913 - val_loss: 0.0238 - val_acc: 0.9926\n",
            "Epoch 32/50\n",
            "60000/60000 [==============================] - 27s 450us/step - loss: 0.0290 - acc: 0.9902 - val_loss: 0.0231 - val_acc: 0.9929\n",
            "Epoch 33/50\n",
            "60000/60000 [==============================] - 27s 449us/step - loss: 0.0278 - acc: 0.9913 - val_loss: 0.0240 - val_acc: 0.9932\n",
            "Epoch 34/50\n",
            "60000/60000 [==============================] - 27s 453us/step - loss: 0.0271 - acc: 0.9913 - val_loss: 0.0260 - val_acc: 0.9922\n",
            "Epoch 35/50\n",
            "60000/60000 [==============================] - 27s 444us/step - loss: 0.0281 - acc: 0.9905 - val_loss: 0.0234 - val_acc: 0.9933\n",
            "Epoch 36/50\n",
            "60000/60000 [==============================] - 27s 452us/step - loss: 0.0259 - acc: 0.9915 - val_loss: 0.0269 - val_acc: 0.9926\n",
            "Epoch 37/50\n",
            "60000/60000 [==============================] - 27s 454us/step - loss: 0.0268 - acc: 0.9916 - val_loss: 0.0258 - val_acc: 0.9916\n",
            "Epoch 38/50\n",
            "60000/60000 [==============================] - 27s 454us/step - loss: 0.0267 - acc: 0.9912 - val_loss: 0.0226 - val_acc: 0.9930\n",
            "Epoch 39/50\n",
            "60000/60000 [==============================] - 27s 457us/step - loss: 0.0268 - acc: 0.9913 - val_loss: 0.0245 - val_acc: 0.9926\n",
            "Epoch 40/50\n",
            "60000/60000 [==============================] - 27s 454us/step - loss: 0.0252 - acc: 0.9920 - val_loss: 0.0265 - val_acc: 0.9914\n",
            "Epoch 41/50\n",
            "60000/60000 [==============================] - 27s 454us/step - loss: 0.0249 - acc: 0.9916 - val_loss: 0.0214 - val_acc: 0.9937\n",
            "Epoch 42/50\n",
            "60000/60000 [==============================] - 27s 456us/step - loss: 0.0249 - acc: 0.9923 - val_loss: 0.0268 - val_acc: 0.9921\n",
            "Epoch 43/50\n",
            "60000/60000 [==============================] - 27s 453us/step - loss: 0.0233 - acc: 0.9926 - val_loss: 0.0242 - val_acc: 0.9929\n",
            "Epoch 44/50\n",
            "60000/60000 [==============================] - 27s 450us/step - loss: 0.0240 - acc: 0.9924 - val_loss: 0.0263 - val_acc: 0.9921\n",
            "Epoch 45/50\n",
            "60000/60000 [==============================] - 27s 450us/step - loss: 0.0234 - acc: 0.9926 - val_loss: 0.0214 - val_acc: 0.9936\n",
            "Epoch 46/50\n",
            "60000/60000 [==============================] - 27s 451us/step - loss: 0.0240 - acc: 0.9923 - val_loss: 0.0266 - val_acc: 0.9924\n",
            "Epoch 47/50\n",
            "60000/60000 [==============================] - 27s 453us/step - loss: 0.0240 - acc: 0.9917 - val_loss: 0.0240 - val_acc: 0.9927\n",
            "Epoch 48/50\n",
            "60000/60000 [==============================] - 27s 451us/step - loss: 0.0237 - acc: 0.9922 - val_loss: 0.0251 - val_acc: 0.9928\n",
            "Epoch 49/50\n",
            "60000/60000 [==============================] - 27s 452us/step - loss: 0.0223 - acc: 0.9924 - val_loss: 0.0246 - val_acc: 0.9929\n",
            "Epoch 50/50\n",
            "60000/60000 [==============================] - 27s 452us/step - loss: 0.0226 - acc: 0.9927 - val_loss: 0.0225 - val_acc: 0.9929\n"
          ],
          "name": "stdout"
        },
        {
          "output_type": "execute_result",
          "data": {
            "text/plain": [
              "<keras.callbacks.History at 0x7f9cc3fa82b0>"
            ]
          },
          "metadata": {
            "tags": []
          },
          "execution_count": 20
        }
      ]
    },
    {
      "cell_type": "markdown",
      "metadata": {
        "id": "31GgC01mQqQb",
        "colab_type": "text"
      },
      "source": [
        "### Load the best model that was saved and evalute the model against the test data and record the score."
      ]
    },
    {
      "cell_type": "code",
      "metadata": {
        "id": "AtsH-lLk-eLb",
        "colab_type": "code",
        "colab": {}
      },
      "source": [
        "#model.load_weights('model.best-accuracy.hdfs')\n",
        "from keras.models import load_model\n",
        "model = load_model('model.best-accuracy.hdfs')\n",
        "score = model.evaluate(X_test, Y_test, verbose=0)"
      ],
      "execution_count": 0,
      "outputs": []
    },
    {
      "cell_type": "markdown",
      "metadata": {
        "id": "vll_7-uUQzrv",
        "colab_type": "text"
      },
      "source": [
        "###Print  the score"
      ]
    },
    {
      "cell_type": "code",
      "metadata": {
        "id": "mkX8JMv79q9r",
        "colab_type": "code",
        "outputId": "d91f0f2e-fc86-4876-99de-ec86d7a56840",
        "colab": {
          "base_uri": "https://localhost:8080/",
          "height": 35
        }
      },
      "source": [
        "print(score)"
      ],
      "execution_count": 22,
      "outputs": [
        {
          "output_type": "stream",
          "text": [
            "[0.021352487925505557, 0.9937]\n"
          ],
          "name": "stdout"
        }
      ]
    },
    {
      "cell_type": "markdown",
      "metadata": {
        "id": "hSXylYYSRJkR",
        "colab_type": "text"
      },
      "source": [
        "###predict the output on test data"
      ]
    },
    {
      "cell_type": "code",
      "metadata": {
        "id": "OCWoJkwE9suh",
        "colab_type": "code",
        "colab": {}
      },
      "source": [
        "y_pred = model.predict(X_test)"
      ],
      "execution_count": 0,
      "outputs": []
    },
    {
      "cell_type": "code",
      "metadata": {
        "id": "Ym7iCFBm9uBs",
        "colab_type": "code",
        "outputId": "8acaeb80-0641-4dd8-b097-90c5b65c5a0d",
        "colab": {
          "base_uri": "https://localhost:8080/",
          "height": 366
        }
      },
      "source": [
        "print(y_pred[:9])\n",
        "print(y_test[:9])"
      ],
      "execution_count": 0,
      "outputs": [
        {
          "output_type": "stream",
          "text": [
            "[[1.7004984e-16 4.2394934e-13 1.0077082e-08 1.9282511e-09 3.8344536e-18\n",
            "  2.7049047e-13 7.9659359e-26 1.0000000e+00 9.0797751e-14 1.9809816e-10]\n",
            " [5.7800492e-14 2.0917471e-10 1.0000000e+00 1.7767981e-13 7.9699321e-15\n",
            "  2.4858827e-18 3.4937619e-10 1.7348225e-19 8.6142971e-15 4.4839736e-18]\n",
            " [3.7746372e-11 9.9994648e-01 7.6399948e-07 5.7735074e-09 3.1697655e-06\n",
            "  1.0708524e-05 2.0119731e-07 3.8289680e-05 4.3513404e-07 4.9799587e-10]\n",
            " [9.9996245e-01 7.0947281e-21 1.4196235e-08 4.5778156e-11 3.0981429e-11\n",
            "  1.1494016e-10 3.7152309e-05 1.0082404e-10 1.5377980e-08 3.9810587e-07]\n",
            " [7.9994046e-16 7.2836626e-13 5.6530534e-15 6.3369910e-15 9.9999905e-01\n",
            "  1.0540357e-12 1.1658208e-09 3.5335516e-11 7.5856266e-12 9.1032439e-07]\n",
            " [5.2927492e-11 9.9996161e-01 5.1910320e-07 2.7809000e-09 2.6356281e-06\n",
            "  3.4360387e-06 3.6611823e-08 3.1817694e-05 5.4086485e-08 6.1561400e-10]\n",
            " [3.3662391e-22 7.2132673e-09 1.5895441e-18 7.4105425e-16 9.9999738e-01\n",
            "  3.2786107e-10 9.3392796e-19 2.2478401e-08 9.5652852e-10 2.6576029e-06]\n",
            " [4.1032956e-17 9.9943600e-20 5.6301697e-13 6.0903469e-13 1.2538522e-06\n",
            "  9.7584184e-11 1.6361376e-16 1.1033992e-10 1.7810747e-09 9.9999869e-01]\n",
            " [2.1661019e-12 6.1935532e-22 1.2987569e-18 1.8977709e-18 3.8859809e-15\n",
            "  9.9733645e-01 2.5496855e-03 4.2366136e-20 1.1395469e-04 1.3123139e-09]]\n",
            "[7 2 1 0 4 1 4 9 5]\n"
          ],
          "name": "stdout"
        }
      ]
    },
    {
      "cell_type": "code",
      "metadata": {
        "id": "CT--y98_dr2T",
        "colab_type": "code",
        "outputId": "aadd3314-fc3c-4a68-b0e4-0b0071640a8e",
        "colab": {
          "base_uri": "https://localhost:8080/",
          "height": 55
        }
      },
      "source": [
        "layer_dict = dict([(layer.name, layer) for layer in model.layers])\n",
        "print(layer_dict)"
      ],
      "execution_count": 0,
      "outputs": [
        {
          "output_type": "stream",
          "text": [
            "{'conv2d_1': <keras.layers.convolutional.Conv2D object at 0x7f447a690a58>, 'dropout_1': <keras.layers.core.Dropout object at 0x7f447a69a160>, 'conv2d_2': <keras.layers.convolutional.Conv2D object at 0x7f447a69a208>, 'dropout_2': <keras.layers.core.Dropout object at 0x7f447a69a320>, 'conv2d_3': <keras.layers.convolutional.Conv2D object at 0x7f447a6aa4e0>, 'dropout_3': <keras.layers.core.Dropout object at 0x7f447a69a390>, 'max_pooling2d_1': <keras.layers.pooling.MaxPooling2D object at 0x7f447a6131d0>, 'dropout_4': <keras.layers.core.Dropout object at 0x7f447a5daba8>, 'conv2d_4': <keras.layers.convolutional.Conv2D object at 0x7f447a5da940>, 'conv2d_5': <keras.layers.convolutional.Conv2D object at 0x7f447a58b668>, 'dropout_5': <keras.layers.core.Dropout object at 0x7f447a5725f8>, 'conv2d_6': <keras.layers.convolutional.Conv2D object at 0x7f447a572e48>, 'conv2d_7': <keras.layers.convolutional.Conv2D object at 0x7f447a67bbe0>, 'flatten_1': <keras.layers.core.Flatten object at 0x7f447a4e4e80>, 'activation_1': <keras.layers.core.Activation object at 0x7f447a4e4da0>}\n"
          ],
          "name": "stdout"
        }
      ]
    },
    {
      "cell_type": "markdown",
      "metadata": {
        "id": "-0A-FZesaF5I",
        "colab_type": "text"
      },
      "source": [
        "###This block of code shows us what the kernel sees in a particular layer that is passed to it and displays it.\n",
        "###The textures and patterns that the kernel sees are printed in the output cell as shown."
      ]
    },
    {
      "cell_type": "code",
      "metadata": {
        "id": "2GY4Upv4dsUR",
        "colab_type": "code",
        "outputId": "5ecdf8b1-62b1-4098-c77b-011d4aceff6a",
        "colab": {
          "base_uri": "https://localhost:8080/",
          "height": 741
        }
      },
      "source": [
        "import numpy as np\n",
        "from matplotlib import pyplot as plt\n",
        "from keras import backend as K\n",
        "%matplotlib inline\n",
        "# util function to convert a tensor into a valid image\n",
        "def deprocess_image(x):\n",
        "    # normalize tensor: center on 0., ensure std is 0.1\n",
        "    x -= x.mean()\n",
        "    x /= (x.std() + 1e-5)\n",
        "    x *= 0.1\n",
        "\n",
        "    # clip to [0, 1]\n",
        "    x += 0.5\n",
        "    x = np.clip(x, 0, 1)\n",
        "\n",
        "    # convert to RGB array\n",
        "    x *= 255\n",
        "    #x = x.transpose((1, 2, 0))\n",
        "    x = np.clip(x, 0, 255).astype('uint8')\n",
        "    return x\n",
        "\n",
        "def vis_img_in_filter(img = np.array(X_train[2]).reshape((1, 28, 28, 1)).astype(np.float64), \n",
        "                      layer_name = 'conv2d_3'):\n",
        "    layer_output = layer_dict[layer_name].output\n",
        "    img_ascs = list()\n",
        "    for filter_index in range(layer_output.shape[3]):\n",
        "        # build a loss function that maximizes the activation\n",
        "        # of the nth filter of the layer considered\n",
        "        loss = K.mean(layer_output[:, :, :, filter_index])\n",
        "\n",
        "        # compute the gradient of the input picture wrt this loss\n",
        "        grads = K.gradients(loss, model.input)[0]\n",
        "\n",
        "        # normalization trick: we normalize the gradient\n",
        "        grads /= (K.sqrt(K.mean(K.square(grads))) + 1e-5)\n",
        "\n",
        "        # this function returns the loss and grads given the input picture\n",
        "        iterate = K.function([model.input], [loss, grads])\n",
        "\n",
        "        # step size for gradient ascent\n",
        "        step = 5.\n",
        "\n",
        "        img_asc = np.array(img)\n",
        "        # run gradient ascent for 20 steps\n",
        "        for i in range(20):\n",
        "            loss_value, grads_value = iterate([img_asc])\n",
        "            img_asc += grads_value * step\n",
        "\n",
        "        img_asc = img_asc[0]\n",
        "        img_ascs.append(deprocess_image(img_asc).reshape((28, 28)))\n",
        "        \n",
        "    if layer_output.shape[3] >= 35:\n",
        "        plot_x, plot_y = 6, 6\n",
        "    elif layer_output.shape[3] >= 23:\n",
        "        plot_x, plot_y = 4, 6\n",
        "    elif layer_output.shape[3] >= 11:\n",
        "        plot_x, plot_y = 2, 6\n",
        "    else:\n",
        "        plot_x, plot_y = 1, 2\n",
        "    fig, ax = plt.subplots(plot_x, plot_y, figsize = (12, 12))\n",
        "    ax[0, 0].imshow(img.reshape((28, 28)), cmap = 'gray')\n",
        "    ax[0, 0].set_title('Input image')\n",
        "    fig.suptitle('Input image and %s filters' % (layer_name,))\n",
        "    fig.tight_layout(pad = 0.3, rect = [0, 0, 0.9, 0.9])\n",
        "    for (x, y) in [(i, j) for i in range(plot_x) for j in range(plot_y)]:\n",
        "        if x == 0 and y == 0:\n",
        "            continue\n",
        "        ax[x, y].imshow(img_ascs[x * plot_y + y - 1], cmap = 'gray')\n",
        "        ax[x, y].set_title('filter %d' % (x * plot_y + y - 1))\n",
        "\n",
        "vis_img_in_filter()"
      ],
      "execution_count": 0,
      "outputs": [
        {
          "output_type": "display_data",
          "data": {
            "image/png": "[encoded data removed]",
            "text/plain": [
              "<Figure size 864x864 with 12 Axes>"
            ]
          },
          "metadata": {
            "tags": []
          }
        }
      ]
    },
    {
      "cell_type": "code",
      "metadata": {
        "id": "9tvptcn8dxvp",
        "colab_type": "code",
        "colab": {}
      },
      "source": [
        ""
      ],
      "execution_count": 0,
      "outputs": []
    }
  ]
}